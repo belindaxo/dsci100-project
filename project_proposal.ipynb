{
 "cells": [
  {
   "cell_type": "markdown",
   "id": "0e0383fa-a593-4069-8482-59ce04ef8b68",
   "metadata": {
    "tags": []
   },
   "source": [
    "## Water Quality Prediction Project Proposal\n",
    "### Introduction\n",
    "\n",
    "Water is one of the main basic needs humans need to survive, though many regions around the globe have limited access to clean, safe drinking-water. A body of water's potability can be determined using a range of water quality metrics, each serving as indicators as to whether or not the water is safe to drink, or in other words, potable.\n",
    "\n",
    "For this project, we will be utilizing the 'water_potability.csv' file retrieved from the [Water Quality dataset](https://www.kaggle.com/datasets/adityakadiwal/water-potability/data) on Kaggle, which consists of water quality metrics from 3276 distinct water bodies. \n",
    "\n",
    "<br>\n",
    "\n",
    "\n",
    "Our **objective** with this project is to answer this question:\n",
    "\n",
    "\n",
    "> **Can we predict the potability of water based on its quality metrics?**\n",
    "   \n",
    "\n",
    "<br>\n",
    "\n",
    "The **variables** of this dataset are detailed below:\n",
    "\n",
    "- **pH Value:** A measure of how acidic or alkaline water is (values fall within the WHO's recommended limits).\n",
    "\n",
    "- **Hardness:** Indicates the presence of calcium and magnesium salts, which are vital determinants of water's ability to precipitate soap.\n",
    "\n",
    "- **Solids (Total Dissolved Solids - TDS):** Denotes the concentration of dissolved minerals in water, affecting its taste and appearance.\n",
    "\n",
    "- **Chloramines:** The concentration of disinfectants, primarily used in public water systems (chlorine and chloramine). Chlorine levels up to 4mg/L are considered safe in drinking water.\n",
    "\n",
    "- **Sulfate:** Found in many natural sources (groundwater, plants, food, etc.). Concentration varies greatly.\n",
    "\n",
    "- **Conductivity:** A measure of water's ability to conduct electric current, primarily determined by the amount of dissolved solids in water. Pure water is not a good conductor, and WHO standards state that EC (electrical conductivity) should not exceed 400 μS/cm. \n",
    "\n",
    "- **Organic_carbon (Total Organic Carbon - TOC):** A measure of the total amount of carbon in organic compounds in pure water. Comes from decaying natural organic matter and synthetic sources. \n",
    "\n",
    "- **Trihalomethanes (THMs):** Chemicals that might be present in water that has been treated with chlorine. Concentration fluctuates according to level of organic material in the water, the temperature of the water, and the amount of chlorine needed to treat the water.\n",
    "\n",
    "- **Turbidity:** The amount of solid matter suspended in water, influencing the water's transparency. A measure of light emitting properties of water. WHO recommends a value of 5.00 NTU.\n",
    "\n",
    "- **Potability:** Indicates if water is safe for human consumption or not. '1' is potable, '0' is not potable. \n",
    "\n",
    "\n"
   ]
  },
  {
   "cell_type": "markdown",
   "id": "9aa2af06-ae95-4888-b7ab-24b4831c6b60",
   "metadata": {
    "tags": []
   },
   "source": [
    "### Preliminary exploratory data analysis\n",
    "To begin, we read the data from the web into Python and imported everything we could potentially require. Due to Kaggle's security/authentication methods, we uploaded the dataset file to Google Drive and created a share link with public access. This way, we did not have to directly upload the file into Jupyter or utilize the Kaggle API command. We then went on to clean and wrangle the data and split the data into training and testing sets."
   ]
  },
  {
   "cell_type": "code",
   "execution_count": 61,
   "id": "b35bf8b6-9614-489d-bb39-c8ebd85b04ea",
   "metadata": {
    "tags": []
   },
   "outputs": [],
   "source": [
    "#import commands\n",
    "import altair as alt\n",
    "import numpy as np\n",
    "import pandas as pd\n",
    "from sklearn import set_config\n",
    "from sklearn.compose import make_column_transformer\n",
    "from sklearn.metrics.pairwise import euclidean_distances\n",
    "from sklearn.model_selection import (\n",
    "    GridSearchCV,\n",
    "    RandomizedSearchCV,\n",
    "    cross_validate,\n",
    "    train_test_split,\n",
    ")\n",
    "from sklearn.neighbors import KNeighborsClassifier\n",
    "from sklearn.pipeline import make_pipeline\n",
    "from sklearn.preprocessing import StandardScaler\n",
    "from sklearn.utils import resample\n",
    "from sklearn.impute import SimpleImputer\n",
    "\n",
    "# Simplify working with large datasets in Altair\n",
    "alt.data_transformers.disable_max_rows()\n",
    "\n",
    "# Output dataframes instead of arrays\n",
    "set_config(transform_output=\"pandas\")"
   ]
  },
  {
   "cell_type": "code",
   "execution_count": 62,
   "id": "a77c9be7-663b-4820-9a4f-b108d4bd197c",
   "metadata": {
    "tags": []
   },
   "outputs": [
    {
     "name": "stdout",
     "output_type": "stream",
     "text": [
      "ph                 491\n",
      "Hardness             0\n",
      "Solids               0\n",
      "Chloramines          0\n",
      "Sulfate            781\n",
      "Conductivity         0\n",
      "Organic_carbon       0\n",
      "Trihalomethanes    162\n",
      "Turbidity            0\n",
      "Potability           0\n",
      "dtype: int64\n",
      "(3276, 10)\n",
      "[   43.77289377 14340.        ]\n"
     ]
    }
   ],
   "source": [
    "raw_water_data = pd.read_csv('https://drive.google.com/uc?id=13N4nBi8cZCQUQambCexi0-XArwSghdrj')\n",
    "\n",
    "missing_sum = raw_water_data.isnull().sum()\n",
    "\n",
    "print(missing_sum)\n",
    "\n",
    "total_rows = raw_water_data.shape\n",
    "\n",
    "print(total_rows)\n",
    "\n",
    "percent_missing = ((missing_sum[\"ph\"] + missing_sum[\"Sulfate\"] + missing_sum[\"Trihalomethanes\"]) / total_rows) * 100\n",
    "\n",
    "print(percent_missing)"
   ]
  },
  {
   "cell_type": "code",
   "execution_count": 70,
   "id": "806d2b61-8ec0-427d-913e-4d5b2af96d0d",
   "metadata": {
    "tags": []
   },
   "outputs": [
    {
     "data": {
      "text/plain": [
       "ph                 0\n",
       "Sulfate            0\n",
       "Trihalomethanes    0\n",
       "Hardness           0\n",
       "Solids             0\n",
       "Chloramines        0\n",
       "Conductivity       0\n",
       "Organic_carbon     0\n",
       "Turbidity          0\n",
       "Potability         0\n",
       "dtype: int64"
      ]
     },
     "execution_count": 70,
     "metadata": {},
     "output_type": "execute_result"
    }
   ],
   "source": [
    "preprocessor_missing = make_column_transformer(\n",
    "    (SimpleImputer(), [\"ph\", \"Sulfate\", \"Trihalomethanes\"]),\n",
    "    remainder='passthrough',\n",
    "    verbose_feature_names_out=False\n",
    ")\n",
    "\n",
    "preprocessor_missing.fit(raw_water_data)\n",
    "water_data = preprocessor_missing.transform(raw_water_data)\n",
    "\n",
    "\n",
    "water_data = water_data.replace({\n",
    "    0: \"Not Potable\",\n",
    "    1: \"Potable\"\n",
    "})\n",
    "\n",
    "water_data.isnull().sum()"
   ]
  },
  {
   "cell_type": "code",
   "execution_count": 71,
   "id": "548a401d-6b6b-4b3b-bbaa-75e2afe5d818",
   "metadata": {
    "tags": []
   },
   "outputs": [
    {
     "data": {
      "text/plain": [
       "Not Potable    1998\n",
       "Potable        1278\n",
       "Name: Potability, dtype: int64"
      ]
     },
     "execution_count": 71,
     "metadata": {},
     "output_type": "execute_result"
    }
   ],
   "source": [
    "water_data[\"Potability\"].value_counts()"
   ]
  },
  {
   "cell_type": "code",
   "execution_count": 72,
   "id": "cde6a002-65a9-4d67-97ca-3c5581eeb876",
   "metadata": {
    "tags": []
   },
   "outputs": [
    {
     "data": {
      "text/plain": [
       "Potable        1998\n",
       "Not Potable    1998\n",
       "Name: Potability, dtype: int64"
      ]
     },
     "execution_count": 72,
     "metadata": {},
     "output_type": "execute_result"
    }
   ],
   "source": [
    "np_water = water_data[water_data[\"Potability\"] == \"Not Potable\"]\n",
    "p_water = water_data[water_data[\"Potability\"] == \"Potable\"]\n",
    "p_water_upsampled = resample(\n",
    "    p_water, n_samples=np_water.shape[0]\n",
    ")\n",
    "upsampled_water = pd.concat((p_water_upsampled, np_water))\n",
    "upsampled_water['Potability'].value_counts()"
   ]
  },
  {
   "cell_type": "code",
   "execution_count": 110,
   "id": "28f6156d-86d0-471e-ba67-c42a05ea83f1",
   "metadata": {
    "tags": []
   },
   "outputs": [
    {
     "data": {
      "text/html": [
       "<div>\n",
       "<style scoped>\n",
       "    .dataframe tbody tr th:only-of-type {\n",
       "        vertical-align: middle;\n",
       "    }\n",
       "\n",
       "    .dataframe tbody tr th {\n",
       "        vertical-align: top;\n",
       "    }\n",
       "\n",
       "    .dataframe thead th {\n",
       "        text-align: right;\n",
       "    }\n",
       "</style>\n",
       "<table border=\"1\" class=\"dataframe\">\n",
       "  <thead>\n",
       "    <tr style=\"text-align: right;\">\n",
       "      <th></th>\n",
       "      <th>ph</th>\n",
       "      <th>Sulfate</th>\n",
       "      <th>Trihalomethanes</th>\n",
       "      <th>Hardness</th>\n",
       "      <th>Solids</th>\n",
       "      <th>Chloramines</th>\n",
       "      <th>Conductivity</th>\n",
       "      <th>Organic_carbon</th>\n",
       "      <th>Turbidity</th>\n",
       "      <th>Potability</th>\n",
       "    </tr>\n",
       "  </thead>\n",
       "  <tbody>\n",
       "    <tr>\n",
       "      <th>0</th>\n",
       "      <td>7.080795</td>\n",
       "      <td>417.911837</td>\n",
       "      <td>68.388378</td>\n",
       "      <td>246.239763</td>\n",
       "      <td>6974.225135</td>\n",
       "      <td>9.812468</td>\n",
       "      <td>355.532470</td>\n",
       "      <td>13.330091</td>\n",
       "      <td>4.138697</td>\n",
       "      <td>Potable</td>\n",
       "    </tr>\n",
       "    <tr>\n",
       "      <th>1</th>\n",
       "      <td>6.817608</td>\n",
       "      <td>340.937614</td>\n",
       "      <td>68.568791</td>\n",
       "      <td>219.337429</td>\n",
       "      <td>27548.614177</td>\n",
       "      <td>6.298121</td>\n",
       "      <td>530.710026</td>\n",
       "      <td>19.486791</td>\n",
       "      <td>3.048292</td>\n",
       "      <td>Potable</td>\n",
       "    </tr>\n",
       "    <tr>\n",
       "      <th>2</th>\n",
       "      <td>5.729303</td>\n",
       "      <td>415.287072</td>\n",
       "      <td>76.744677</td>\n",
       "      <td>162.857585</td>\n",
       "      <td>34573.678786</td>\n",
       "      <td>5.654856</td>\n",
       "      <td>297.631365</td>\n",
       "      <td>13.990842</td>\n",
       "      <td>3.556395</td>\n",
       "      <td>Potable</td>\n",
       "    </tr>\n",
       "    <tr>\n",
       "      <th>3</th>\n",
       "      <td>7.080795</td>\n",
       "      <td>412.407278</td>\n",
       "      <td>33.563040</td>\n",
       "      <td>176.772186</td>\n",
       "      <td>19486.191112</td>\n",
       "      <td>7.960133</td>\n",
       "      <td>276.588610</td>\n",
       "      <td>16.710056</td>\n",
       "      <td>3.888177</td>\n",
       "      <td>Potable</td>\n",
       "    </tr>\n",
       "    <tr>\n",
       "      <th>4</th>\n",
       "      <td>7.080795</td>\n",
       "      <td>365.080963</td>\n",
       "      <td>48.254307</td>\n",
       "      <td>155.675777</td>\n",
       "      <td>52060.226800</td>\n",
       "      <td>2.577555</td>\n",
       "      <td>323.001036</td>\n",
       "      <td>14.166602</td>\n",
       "      <td>2.000757</td>\n",
       "      <td>Potable</td>\n",
       "    </tr>\n",
       "    <tr>\n",
       "      <th>5</th>\n",
       "      <td>6.991685</td>\n",
       "      <td>331.252916</td>\n",
       "      <td>69.670038</td>\n",
       "      <td>152.976217</td>\n",
       "      <td>20389.593816</td>\n",
       "      <td>2.648390</td>\n",
       "      <td>460.146174</td>\n",
       "      <td>15.485378</td>\n",
       "      <td>3.724824</td>\n",
       "      <td>Potable</td>\n",
       "    </tr>\n",
       "    <tr>\n",
       "      <th>6</th>\n",
       "      <td>6.191241</td>\n",
       "      <td>248.304391</td>\n",
       "      <td>54.060851</td>\n",
       "      <td>231.322797</td>\n",
       "      <td>29778.357877</td>\n",
       "      <td>4.381097</td>\n",
       "      <td>488.954164</td>\n",
       "      <td>13.022135</td>\n",
       "      <td>3.315071</td>\n",
       "      <td>Potable</td>\n",
       "    </tr>\n",
       "    <tr>\n",
       "      <th>7</th>\n",
       "      <td>5.632732</td>\n",
       "      <td>318.465146</td>\n",
       "      <td>67.651025</td>\n",
       "      <td>283.997284</td>\n",
       "      <td>28315.437777</td>\n",
       "      <td>7.144655</td>\n",
       "      <td>425.984213</td>\n",
       "      <td>11.813231</td>\n",
       "      <td>5.114607</td>\n",
       "      <td>Potable</td>\n",
       "    </tr>\n",
       "    <tr>\n",
       "      <th>8</th>\n",
       "      <td>7.186931</td>\n",
       "      <td>295.834151</td>\n",
       "      <td>62.756891</td>\n",
       "      <td>177.486533</td>\n",
       "      <td>34510.752995</td>\n",
       "      <td>4.984432</td>\n",
       "      <td>477.994992</td>\n",
       "      <td>16.777540</td>\n",
       "      <td>4.275645</td>\n",
       "      <td>Potable</td>\n",
       "    </tr>\n",
       "    <tr>\n",
       "      <th>9</th>\n",
       "      <td>6.260111</td>\n",
       "      <td>340.792574</td>\n",
       "      <td>82.365378</td>\n",
       "      <td>211.594112</td>\n",
       "      <td>18577.623969</td>\n",
       "      <td>7.154891</td>\n",
       "      <td>357.098395</td>\n",
       "      <td>7.992210</td>\n",
       "      <td>5.403615</td>\n",
       "      <td>Potable</td>\n",
       "    </tr>\n",
       "  </tbody>\n",
       "</table>\n",
       "</div>"
      ],
      "text/plain": [
       "         ph     Sulfate  Trihalomethanes    Hardness        Solids  \\\n",
       "0  7.080795  417.911837        68.388378  246.239763   6974.225135   \n",
       "1  6.817608  340.937614        68.568791  219.337429  27548.614177   \n",
       "2  5.729303  415.287072        76.744677  162.857585  34573.678786   \n",
       "3  7.080795  412.407278        33.563040  176.772186  19486.191112   \n",
       "4  7.080795  365.080963        48.254307  155.675777  52060.226800   \n",
       "5  6.991685  331.252916        69.670038  152.976217  20389.593816   \n",
       "6  6.191241  248.304391        54.060851  231.322797  29778.357877   \n",
       "7  5.632732  318.465146        67.651025  283.997284  28315.437777   \n",
       "8  7.186931  295.834151        62.756891  177.486533  34510.752995   \n",
       "9  6.260111  340.792574        82.365378  211.594112  18577.623969   \n",
       "\n",
       "   Chloramines  Conductivity  Organic_carbon  Turbidity Potability  \n",
       "0     9.812468    355.532470       13.330091   4.138697    Potable  \n",
       "1     6.298121    530.710026       19.486791   3.048292    Potable  \n",
       "2     5.654856    297.631365       13.990842   3.556395    Potable  \n",
       "3     7.960133    276.588610       16.710056   3.888177    Potable  \n",
       "4     2.577555    323.001036       14.166602   2.000757    Potable  \n",
       "5     2.648390    460.146174       15.485378   3.724824    Potable  \n",
       "6     4.381097    488.954164       13.022135   3.315071    Potable  \n",
       "7     7.144655    425.984213       11.813231   5.114607    Potable  \n",
       "8     4.984432    477.994992       16.777540   4.275645    Potable  \n",
       "9     7.154891    357.098395        7.992210   5.403615    Potable  "
      ]
     },
     "execution_count": 110,
     "metadata": {},
     "output_type": "execute_result"
    }
   ],
   "source": [
    "water_data = upsampled_water.reset_index(drop=True)\n",
    "water_data.head(10)"
   ]
  },
  {
   "cell_type": "code",
   "execution_count": 111,
   "id": "0ed9a7a9-e9a1-4de0-9127-b48975716f31",
   "metadata": {
    "tags": []
   },
   "outputs": [
    {
     "name": "stdout",
     "output_type": "stream",
     "text": [
      "<class 'pandas.core.frame.DataFrame'>\n",
      "Int64Index: 2997 entries, 2511 to 720\n",
      "Data columns (total 10 columns):\n",
      " #   Column           Non-Null Count  Dtype  \n",
      "---  ------           --------------  -----  \n",
      " 0   ph               2997 non-null   object \n",
      " 1   Sulfate          2997 non-null   float64\n",
      " 2   Trihalomethanes  2997 non-null   float64\n",
      " 3   Hardness         2997 non-null   float64\n",
      " 4   Solids           2997 non-null   float64\n",
      " 5   Chloramines      2997 non-null   float64\n",
      " 6   Conductivity     2997 non-null   float64\n",
      " 7   Organic_carbon   2997 non-null   float64\n",
      " 8   Turbidity        2997 non-null   float64\n",
      " 9   Potability       2997 non-null   object \n",
      "dtypes: float64(8), object(2)\n",
      "memory usage: 257.6+ KB\n",
      "None\n",
      "<class 'pandas.core.frame.DataFrame'>\n",
      "Int64Index: 999 entries, 1759 to 1789\n",
      "Data columns (total 10 columns):\n",
      " #   Column           Non-Null Count  Dtype  \n",
      "---  ------           --------------  -----  \n",
      " 0   ph               999 non-null    object \n",
      " 1   Sulfate          999 non-null    float64\n",
      " 2   Trihalomethanes  999 non-null    float64\n",
      " 3   Hardness         999 non-null    float64\n",
      " 4   Solids           999 non-null    float64\n",
      " 5   Chloramines      999 non-null    float64\n",
      " 6   Conductivity     999 non-null    float64\n",
      " 7   Organic_carbon   999 non-null    float64\n",
      " 8   Turbidity        999 non-null    float64\n",
      " 9   Potability       999 non-null    object \n",
      "dtypes: float64(8), object(2)\n",
      "memory usage: 85.9+ KB\n",
      "None\n"
     ]
    }
   ],
   "source": [
    "water_train, water_test = train_test_split(\n",
    "    water_data, train_size=0.75, stratify=water_data[\"Potability\"]\n",
    ")\n",
    "print(water_train.info())\n",
    "print(water_test.info())"
   ]
  },
  {
   "cell_type": "code",
   "execution_count": 115,
   "id": "2981cd8a-e220-42f3-9da2-663461be631f",
   "metadata": {
    "tags": []
   },
   "outputs": [
    {
     "name": "stdout",
     "output_type": "stream",
     "text": [
      "count     2997.000000\n",
      "unique    1986.000000\n",
      "top          7.080795\n",
      "freq       479.000000\n",
      "Name: ph, dtype: float64\n"
     ]
    },
    {
     "data": {
      "text/html": [
       "<div>\n",
       "<style scoped>\n",
       "    .dataframe tbody tr th:only-of-type {\n",
       "        vertical-align: middle;\n",
       "    }\n",
       "\n",
       "    .dataframe tbody tr th {\n",
       "        vertical-align: top;\n",
       "    }\n",
       "\n",
       "    .dataframe thead th {\n",
       "        text-align: right;\n",
       "    }\n",
       "</style>\n",
       "<table border=\"1\" class=\"dataframe\">\n",
       "  <thead>\n",
       "    <tr style=\"text-align: right;\">\n",
       "      <th></th>\n",
       "      <th>Sulfate</th>\n",
       "      <th>Trihalomethanes</th>\n",
       "      <th>Hardness</th>\n",
       "      <th>Solids</th>\n",
       "      <th>Chloramines</th>\n",
       "      <th>Conductivity</th>\n",
       "      <th>Organic_carbon</th>\n",
       "      <th>Turbidity</th>\n",
       "    </tr>\n",
       "  </thead>\n",
       "  <tbody>\n",
       "    <tr>\n",
       "      <th>count</th>\n",
       "      <td>2997.000000</td>\n",
       "      <td>2997.000000</td>\n",
       "      <td>2997.000000</td>\n",
       "      <td>2997.000000</td>\n",
       "      <td>2997.000000</td>\n",
       "      <td>2997.000000</td>\n",
       "      <td>2997.000000</td>\n",
       "      <td>2997.000000</td>\n",
       "    </tr>\n",
       "    <tr>\n",
       "      <th>mean</th>\n",
       "      <td>333.102690</td>\n",
       "      <td>66.337539</td>\n",
       "      <td>197.027186</td>\n",
       "      <td>22328.969320</td>\n",
       "      <td>7.131579</td>\n",
       "      <td>426.287034</td>\n",
       "      <td>14.214250</td>\n",
       "      <td>3.950210</td>\n",
       "    </tr>\n",
       "    <tr>\n",
       "      <th>std</th>\n",
       "      <td>37.287367</td>\n",
       "      <td>15.864046</td>\n",
       "      <td>33.099053</td>\n",
       "      <td>8986.600998</td>\n",
       "      <td>1.616970</td>\n",
       "      <td>78.987433</td>\n",
       "      <td>3.276730</td>\n",
       "      <td>0.771800</td>\n",
       "    </tr>\n",
       "    <tr>\n",
       "      <th>min</th>\n",
       "      <td>129.000000</td>\n",
       "      <td>8.175876</td>\n",
       "      <td>73.492234</td>\n",
       "      <td>320.942611</td>\n",
       "      <td>1.390871</td>\n",
       "      <td>201.619737</td>\n",
       "      <td>2.200000</td>\n",
       "      <td>1.492207</td>\n",
       "    </tr>\n",
       "    <tr>\n",
       "      <th>25%</th>\n",
       "      <td>316.820248</td>\n",
       "      <td>56.460386</td>\n",
       "      <td>177.233643</td>\n",
       "      <td>15825.182571</td>\n",
       "      <td>6.121662</td>\n",
       "      <td>366.370724</td>\n",
       "      <td>11.887161</td>\n",
       "      <td>3.412853</td>\n",
       "    </tr>\n",
       "    <tr>\n",
       "      <th>50%</th>\n",
       "      <td>333.775777</td>\n",
       "      <td>66.396293</td>\n",
       "      <td>197.685838</td>\n",
       "      <td>21165.590649</td>\n",
       "      <td>7.123611</td>\n",
       "      <td>420.219104</td>\n",
       "      <td>14.154110</td>\n",
       "      <td>3.937188</td>\n",
       "    </tr>\n",
       "    <tr>\n",
       "      <th>75%</th>\n",
       "      <td>349.948941</td>\n",
       "      <td>77.241984</td>\n",
       "      <td>217.936799</td>\n",
       "      <td>27795.732041</td>\n",
       "      <td>8.142513</td>\n",
       "      <td>480.143109</td>\n",
       "      <td>16.542921</td>\n",
       "      <td>4.493747</td>\n",
       "    </tr>\n",
       "    <tr>\n",
       "      <th>max</th>\n",
       "      <td>481.030642</td>\n",
       "      <td>120.030077</td>\n",
       "      <td>323.124000</td>\n",
       "      <td>61227.196008</td>\n",
       "      <td>13.127000</td>\n",
       "      <td>708.226364</td>\n",
       "      <td>27.006707</td>\n",
       "      <td>6.494749</td>\n",
       "    </tr>\n",
       "  </tbody>\n",
       "</table>\n",
       "</div>"
      ],
      "text/plain": [
       "           Sulfate  Trihalomethanes     Hardness        Solids  Chloramines  \\\n",
       "count  2997.000000      2997.000000  2997.000000   2997.000000  2997.000000   \n",
       "mean    333.102690        66.337539   197.027186  22328.969320     7.131579   \n",
       "std      37.287367        15.864046    33.099053   8986.600998     1.616970   \n",
       "min     129.000000         8.175876    73.492234    320.942611     1.390871   \n",
       "25%     316.820248        56.460386   177.233643  15825.182571     6.121662   \n",
       "50%     333.775777        66.396293   197.685838  21165.590649     7.123611   \n",
       "75%     349.948941        77.241984   217.936799  27795.732041     8.142513   \n",
       "max     481.030642       120.030077   323.124000  61227.196008    13.127000   \n",
       "\n",
       "       Conductivity  Organic_carbon    Turbidity  \n",
       "count   2997.000000     2997.000000  2997.000000  \n",
       "mean     426.287034       14.214250     3.950210  \n",
       "std       78.987433        3.276730     0.771800  \n",
       "min      201.619737        2.200000     1.492207  \n",
       "25%      366.370724       11.887161     3.412853  \n",
       "50%      420.219104       14.154110     3.937188  \n",
       "75%      480.143109       16.542921     4.493747  \n",
       "max      708.226364       27.006707     6.494749  "
      ]
     },
     "execution_count": 115,
     "metadata": {},
     "output_type": "execute_result"
    }
   ],
   "source": [
    "ph_summary = water_train['ph'].describe()\n",
    "print(ph_summary)\n",
    "\n",
    "predictor_vals_summary = pd.DataFrame(water_train.describe())\n",
    "predictor_vals_summary"
   ]
  },
  {
   "cell_type": "code",
   "execution_count": null,
   "id": "76c49600-4048-4446-b204-371024ceb845",
   "metadata": {},
   "outputs": [],
   "source": [
    "\n"
   ]
  },
  {
   "cell_type": "markdown",
   "id": "5924cff6-5b2d-46ff-96db-fb6b531be384",
   "metadata": {},
   "source": [
    "### Method\n",
    "Explain how you will conduct either your data analysis and which variables/columns you will use. Note - you do not need to use all variables/columns that exist in the raw data set. In fact, that's often not a good idea. For each variable think: is this a useful variable for prediction?\n",
    "Describe at least one way that you will visualize the results\n"
   ]
  },
  {
   "cell_type": "code",
   "execution_count": 35,
   "id": "ee242375-5a0d-458a-925b-050f0b72feec",
   "metadata": {
    "tags": []
   },
   "outputs": [
    {
     "data": {
      "text/plain": [
       "ph                     7.067201\n",
       "Hardness             196.008440\n",
       "Solids             21628.535122\n",
       "Chloramines            7.107267\n",
       "Sulfate              333.742928\n",
       "Conductivity         427.554342\n",
       "Organic_carbon        14.400250\n",
       "Trihalomethanes       66.278712\n",
       "Turbidity              3.955181\n",
       "dtype: float64"
      ]
     },
     "metadata": {},
     "output_type": "display_data"
    },
    {
     "data": {
      "text/plain": [
       "ph                     7.113791\n",
       "Hardness             195.908341\n",
       "Solids             22344.922883\n",
       "Chloramines            7.174395\n",
       "Sulfate              332.457832\n",
       "Conductivity         425.005423\n",
       "Organic_carbon        14.294764\n",
       "Trihalomethanes       66.581596\n",
       "Turbidity              3.991254\n",
       "dtype: float64"
      ]
     },
     "metadata": {},
     "output_type": "display_data"
    },
    {
     "data": {
      "text/plain": [
       "Solids            0.016291\n",
       "Chloramines       0.004700\n",
       "Turbidity         0.004539\n",
       "Organic_carbon    0.003676\n",
       "ph                0.003285\n",
       "dtype: float64"
      ]
     },
     "execution_count": 35,
     "metadata": {},
     "output_type": "execute_result"
    }
   ],
   "source": [
    "np_water = water_data[water_data[\"Potability\"] == \"Not Potable\"].mean(numeric_only=True)\n",
    "display(np_water)\n",
    "\n",
    "p_water = water_data[water_data[\"Potability\"] == \"Potable\"].mean(numeric_only=True)\n",
    "display(p_water)\n",
    "\n",
    "((np_water - p_water)/(np_water + p_water)).abs().nlargest(5)"
   ]
  },
  {
   "cell_type": "markdown",
   "id": "8af2c8a3-68ae-43a0-a94f-b9f2ce0c666e",
   "metadata": {},
   "source": [
    "Judging from the difference in the last panadas series, we should pick \"Solids\", \"Chloramines\", \"Turbidity\", \"Organic_carbon\" and \"ph\" for the predictor variables and \"Potability\" for the response variable."
   ]
  }
 ],
 "metadata": {
  "kernelspec": {
   "display_name": "Python 3 (ipykernel)",
   "language": "python",
   "name": "python3"
  },
  "language_info": {
   "codemirror_mode": {
    "name": "ipython",
    "version": 3
   },
   "file_extension": ".py",
   "mimetype": "text/x-python",
   "name": "python",
   "nbconvert_exporter": "python",
   "pygments_lexer": "ipython3",
   "version": "3.10.8"
  }
 },
 "nbformat": 4,
 "nbformat_minor": 5
}
