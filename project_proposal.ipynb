{
 "cells": [
  {
   "cell_type": "markdown",
   "id": "0e0383fa-a593-4069-8482-59ce04ef8b68",
   "metadata": {
    "tags": []
   },
   "source": [
    "## Water Quality Prediction Project Proposal\n",
    "### Introduction\n",
    "\n",
    "Water is one of the main basic needs humans need to survive, though many regions around the globe have limited access to clean, safe drinking-water. A body of water's potability can be determined using a range of water quality metrics, each serving as indicators as to whether or not the water is safe to drink, or in other words, potable.\n",
    "\n",
    "For this project, we will be utilizing the 'water_potability.csv' file retrieved from the [Water Quality dataset](https://www.kaggle.com/datasets/adityakadiwal/water-potability/data) on Kaggle, which consists of water quality metrics from 3276 distinct water bodies. \n",
    "\n",
    "<br>\n",
    "\n",
    "\n",
    "Our **objective** with this project is to answer this question:\n",
    "\n",
    "\n",
    "> **Can we predict the potability of water based on its quality metrics?**\n",
    "   \n",
    "\n",
    "<br>\n",
    "\n",
    "The **variables** of this dataset are detailed below:\n",
    "\n",
    "- **pH Value:** A measure of how acidic or alkaline water is (values fall within the WHO's recommended limits).\n",
    "\n",
    "- **Hardness:** Indicates the presence of calcium and magnesium salts, which are vital determinants of water's ability to precipitate soap.\n",
    "\n",
    "- **Solids (Total Dissolved Solids - TDS):** Denotes the concentration of dissolved minerals in water, affecting its taste and appearance.\n",
    "\n",
    "- **Chloramines:** The concentration of disinfectants, primarily used in public water systems (chlorine and chloramine). Chlorine levels up to 4mg/L are considered safe in drinking water.\n",
    "\n",
    "- **Sulfate:** Found in many natural sources (groundwater, plants, food, etc.). Concentration varies greatly.\n",
    "\n",
    "- **Conductivity:** A measure of water's ability to conduct electric current, primarily determined by the amount of dissolved solids in water. Pure water is not a good conductor, and WHO standards state that EC (electrical conductivity) should not exceed 400 μS/cm. \n",
    "\n",
    "- **Organic_carbon (Total Organic Carbon - TOC):** A measure of the total amount of carbon in organic compounds in pure water. Comes from decaying natural organic matter and synthetic sources. \n",
    "\n",
    "- **Trihalomethanes (THMs):** Chemicals that might be present in water that has been treated with chlorine. Concentration fluctuates according to level of organic material in the water, the temperature of the water, and the amount of chlorine needed to treat the water.\n",
    "\n",
    "- **Turbidity:** The amount of solid matter suspended in water, influencing the water's transparency. A measure of light emitting properties of water. WHO recommends a value of 5.00 NTU.\n",
    "\n",
    "- **Potability:** Indicates if water is safe for human consumption or not. '1' is potable, '0' is not potable. \n",
    "\n",
    "\n"
   ]
  },
  {
   "cell_type": "markdown",
   "id": "9aa2af06-ae95-4888-b7ab-24b4831c6b60",
   "metadata": {
    "tags": []
   },
   "source": [
    "### Preliminary exploratory data analysis\n",
    "To begin, we read the data from the web into Python and imported everything we could potentially require. Due to Kaggle's security/authentication methods, we uploaded the dataset file to Google Drive and created a share link with public access. This way, we did not have to directly upload the file into Jupyter or utilize the Kaggle API command. We then went on to clean and wrangle the data and split the data into training and testing sets."
   ]
  },
  {
   "cell_type": "code",
   "execution_count": 46,
   "id": "b35bf8b6-9614-489d-bb39-c8ebd85b04ea",
   "metadata": {
    "tags": []
   },
   "outputs": [],
   "source": [
    "#import commands\n",
    "import random\n",
    "\n",
    "import altair as alt\n",
    "import pandas as pd\n",
    "from sklearn.compose import make_column_transformer\n",
    "from sklearn.preprocessing import StandardScaler\n",
    "from sklearn.neighbors import KNeighborsClassifier\n",
    "from sklearn.pipeline import make_pipeline\n",
    "from sklearn.metrics.pairwise import euclidean_distances\n",
    "from sklearn import set_config\n",
    "\n",
    "# Simplify working with large datasets in Altair\n",
    "alt.data_transformers.disable_max_rows()\n",
    "\n",
    "# Output dataframes instead of arrays\n",
    "set_config(transform_output=\"pandas\")"
   ]
  },
  {
   "cell_type": "code",
   "execution_count": 68,
   "id": "a77c9be7-663b-4820-9a4f-b108d4bd197c",
   "metadata": {
    "tags": []
   },
   "outputs": [
    {
     "data": {
      "text/plain": [
       "7.067200989469902"
      ]
     },
     "execution_count": 68,
     "metadata": {},
     "output_type": "execute_result"
    }
   ],
   "source": [
    "water_data = pd.read_csv('https://drive.google.com/uc?id=13N4nBi8cZCQUQambCexi0-XArwSghdrj')\n",
    "\n",
    "tidy_water_data = water_data.dropna()\n",
    "tidy_water_data = tidy_water_data.replace({\n",
    "    0: \"Not Potable\",\n",
    "    1: \"Potable\"\n",
    "})\n",
    "pd.set_option('display.max_rows', None)\n",
    "tidy_water_data[tidy_water_data[\"Potability\"] == \"Not Potable\"][\"ph\"].mean()"
   ]
  },
  {
   "cell_type": "markdown",
   "id": "5924cff6-5b2d-46ff-96db-fb6b531be384",
   "metadata": {},
   "source": [
    "### Method\n",
    "Explain how you will conduct either your data analysis and which variables/columns you will use. Note - you do not need to use all variables/columns that exist in the raw data set. In fact, that's often not a good idea. For each variable think: is this a useful variable for prediction?\n",
    "Describe at least one way that you will visualize the results\n"
   ]
  },
  {
   "cell_type": "code",
   "execution_count": 67,
   "id": "ee242375-5a0d-458a-925b-050f0b72feec",
   "metadata": {
    "tags": []
   },
   "outputs": [
    {
     "data": {
      "text/plain": [
       "ph                     7.067201\n",
       "Hardness             196.008440\n",
       "Solids             21628.535122\n",
       "Chloramines            7.107267\n",
       "Sulfate              333.742928\n",
       "Conductivity         427.554342\n",
       "Organic_carbon        14.400250\n",
       "Trihalomethanes       66.278712\n",
       "Turbidity              3.955181\n",
       "dtype: float64"
      ]
     },
     "metadata": {},
     "output_type": "display_data"
    },
    {
     "data": {
      "text/plain": [
       "ph                     7.113791\n",
       "Hardness             195.908341\n",
       "Solids             22344.922883\n",
       "Chloramines            7.174395\n",
       "Sulfate              332.457832\n",
       "Conductivity         425.005423\n",
       "Organic_carbon        14.294764\n",
       "Trihalomethanes       66.581596\n",
       "Turbidity              3.991254\n",
       "dtype: float64"
      ]
     },
     "metadata": {},
     "output_type": "display_data"
    },
    {
     "data": {
      "text/plain": [
       "Solids            0.016291\n",
       "Chloramines       0.004700\n",
       "Turbidity         0.004539\n",
       "Organic_carbon    0.003676\n",
       "ph                0.003285\n",
       "dtype: float64"
      ]
     },
     "execution_count": 67,
     "metadata": {},
     "output_type": "execute_result"
    }
   ],
   "source": [
    "pd.set_option('display.max_rows', None)\n",
    "np_water = tidy_water_data[tidy_water_data[\"Potability\"] == \"Not Potable\"].mean(numeric_only=True)\n",
    "display(np_water)\n",
    "p_water = tidy_water_data[tidy_water_data[\"Potability\"] == \"Potable\"].mean(numeric_only=True)\n",
    "display(p_water)\n",
    "((np_water - p_water)/(np_water + p_water)).abs().nlargest(5)"
   ]
  },
  {
   "cell_type": "markdown",
   "id": "8af2c8a3-68ae-43a0-a94f-b9f2ce0c666e",
   "metadata": {},
   "source": [
    "Judging from the difference in the last panadas series, we should pick \"Solids\", \"Chloramines\", \"Turbidity\", \"Organic_carbon\" and \"ph\" for the predictor variables and \"Potability\" for the response variable."
   ]
  }
 ],
 "metadata": {
  "kernelspec": {
   "display_name": "Python 3 (ipykernel)",
   "language": "python",
   "name": "python3"
  },
  "language_info": {
   "codemirror_mode": {
    "name": "ipython",
    "version": 3
   },
   "file_extension": ".py",
   "mimetype": "text/x-python",
   "name": "python",
   "nbconvert_exporter": "python",
   "pygments_lexer": "ipython3",
   "version": "3.10.8"
  }
 },
 "nbformat": 4,
 "nbformat_minor": 5
}
