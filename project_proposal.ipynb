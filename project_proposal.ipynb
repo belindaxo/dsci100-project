{
 "cells": [
  {
   "cell_type": "markdown",
   "id": "0e0383fa-a593-4069-8482-59ce04ef8b68",
   "metadata": {
    "tags": []
   },
   "source": [
    "## Water Quality Prediction Project Proposal\n",
    "### Introduction\n",
    "\n",
    "Water is one of the main basic needs humans need to survive, though many regions around the globe have limited access to clean, safe drinking-water. A body of water's potability can be determined using a range of water quality metrics, each serving as indicators as to whether or not the water is safe to drink, or in other words, potable.\n",
    "\n",
    "For this project, we will be utilizing the 'water_potability.csv' file retrieved from the [Water Quality dataset](https://www.kaggle.com/datasets/adityakadiwal/water-potability/data) on Kaggle, which consists of water quality metrics from 3276 distinct water bodies. \n",
    "\n",
    "<br>\n",
    "\n",
    "\n",
    "Our **objective** with this project is to answer this question:\n",
    "\n",
    "\n",
    "> **Can we predict the potability of water based on its quality metrics?**\n",
    "   \n",
    "\n",
    "<br>\n",
    "\n",
    "The **variables** of this dataset are detailed below:\n",
    "\n",
    "- **pH Value:** A measure of how acidic or alkaline water is (values fall within the WHO's recommended limits).\n",
    "\n",
    "- **Hardness:** Indicates the presence of calcium and magnesium salts, which are vital determinants of water's ability to precipitate soap.\n",
    "\n",
    "- **Solids (Total Dissolved Solids - TDS):** Denotes the concentration of dissolved minerals in water, affecting its taste and appearance.\n",
    "\n",
    "- **Chloramines:** The concentration of disinfectants, primarily used in public water systems (chlorine and chloramine). Chlorine levels up to 4mg/L are considered safe in drinking water.\n",
    "\n",
    "- **Sulfate:** Found in many natural sources (groundwater, plants, food, etc.). Concentration varies greatly.\n",
    "\n",
    "- **Conductivity:** A measure of water's ability to conduct electric current, primarily determined by the amount of dissolved solids in water. Pure water is not a good conductor, and WHO standards state that EC (electrical conductivity) should not exceed 400 μS/cm. \n",
    "\n",
    "- **Organic_carbon (Total Organic Carbon - TOC):** A measure of the total amount of carbon in organic compounds in pure water. Comes from decaying natural organic matter and synthetic sources. \n",
    "\n",
    "- **Trihalomethanes (THMs):** Chemicals that might be present in water that has been treated with chlorine. Concentration fluctuates according to level of organic material in the water, the temperature of the water, and the amount of chlorine needed to treat the water.\n",
    "\n",
    "- **Turbidity:** The amount of solid matter suspended in water, influencing the water's transparency. A measure of light emitting properties of water. WHO recommends a value of 5.00 NTU.\n",
    "\n",
    "- **Potability:** Indicates if water is safe for human consumption or not. '1' is potable, '0' is not potable. \n",
    "\n",
    "\n"
   ]
  },
  {
   "cell_type": "markdown",
   "id": "9aa2af06-ae95-4888-b7ab-24b4831c6b60",
   "metadata": {
    "tags": []
   },
   "source": [
    "### Preliminary exploratory data analysis\n",
    "To begin, we read the data from the web into Python and imported everything we could potentially require. Due to Kaggle's security/authentication methods, we uploaded the dataset file to Google Drive and created a share link with public access. This way, we did not have to directly upload the file into Jupyter or utilize the Kaggle API command. We then went on to clean and wrangle the data and split the data into training and testing sets."
   ]
  },
  {
   "cell_type": "code",
   "execution_count": 61,
   "id": "b35bf8b6-9614-489d-bb39-c8ebd85b04ea",
   "metadata": {
    "tags": []
   },
   "outputs": [],
   "source": [
    "#import commands\n",
    "import altair as alt\n",
    "import numpy as np\n",
    "import pandas as pd\n",
    "from sklearn import set_config\n",
    "from sklearn.compose import make_column_transformer\n",
    "from sklearn.metrics.pairwise import euclidean_distances\n",
    "from sklearn.model_selection import (\n",
    "    GridSearchCV,\n",
    "    RandomizedSearchCV,\n",
    "    cross_validate,\n",
    "    train_test_split,\n",
    ")\n",
    "from sklearn.neighbors import KNeighborsClassifier\n",
    "from sklearn.pipeline import make_pipeline\n",
    "from sklearn.preprocessing import StandardScaler\n",
    "from sklearn.utils import resample\n",
    "from sklearn.impute import SimpleImputer\n",
    "\n",
    "# Simplify working with large datasets in Altair\n",
    "alt.data_transformers.disable_max_rows()\n",
    "\n",
    "# Output dataframes instead of arrays\n",
    "set_config(transform_output=\"pandas\")"
   ]
  },
  {
   "cell_type": "code",
   "execution_count": 62,
   "id": "a77c9be7-663b-4820-9a4f-b108d4bd197c",
   "metadata": {
    "tags": []
   },
   "outputs": [
    {
     "name": "stdout",
     "output_type": "stream",
     "text": [
      "ph                 491\n",
      "Hardness             0\n",
      "Solids               0\n",
      "Chloramines          0\n",
      "Sulfate            781\n",
      "Conductivity         0\n",
      "Organic_carbon       0\n",
      "Trihalomethanes    162\n",
      "Turbidity            0\n",
      "Potability           0\n",
      "dtype: int64\n",
      "(3276, 10)\n",
      "[   43.77289377 14340.        ]\n"
     ]
    }
   ],
   "source": [
    "raw_water_data = pd.read_csv('https://drive.google.com/uc?id=13N4nBi8cZCQUQambCexi0-XArwSghdrj')\n",
    "\n",
    "missing_sum = raw_water_data.isnull().sum()\n",
    "\n",
    "print(missing_sum)\n",
    "\n",
    "total_rows = raw_water_data.shape\n",
    "\n",
    "print(total_rows)\n",
    "\n",
    "percent_missing = ((missing_sum[\"ph\"] + missing_sum[\"Sulfate\"] + missing_sum[\"Trihalomethanes\"]) / total_rows) * 100\n",
    "\n",
    "print(percent_missing)"
   ]
  },
  {
   "cell_type": "code",
   "execution_count": 63,
   "id": "806d2b61-8ec0-427d-913e-4d5b2af96d0d",
   "metadata": {
    "tags": []
   },
   "outputs": [
    {
     "data": {
      "text/plain": [
       "ph                 0\n",
       "Sulfate            0\n",
       "Trihalomethanes    0\n",
       "Hardness           0\n",
       "Solids             0\n",
       "Chloramines        0\n",
       "Conductivity       0\n",
       "Organic_carbon     0\n",
       "Turbidity          0\n",
       "Potability         0\n",
       "dtype: int64"
      ]
     },
     "execution_count": 63,
     "metadata": {},
     "output_type": "execute_result"
    }
   ],
   "source": [
    "preprocessor_missing = make_column_transformer(\n",
    "    (SimpleImputer(), [\"ph\", \"Sulfate\", \"Trihalomethanes\"]),\n",
    "    remainder='passthrough',\n",
    "    verbose_feature_names_out=False\n",
    ")\n",
    "\n",
    "preprocessor_missing.fit(raw_water_data)\n",
    "water_data = preprocessor_missing.transform(raw_water_data)\n",
    "\n",
    "\n",
    "water_data = water_data.replace({\n",
    "    0: \"Not Potable\",\n",
    "    1: \"Potable\"\n",
    "})\n",
    "\n",
    "water_data.isnull().sum()"
   ]
  },
  {
   "cell_type": "code",
   "execution_count": 64,
   "id": "548a401d-6b6b-4b3b-bbaa-75e2afe5d818",
   "metadata": {
    "tags": []
   },
   "outputs": [
    {
     "data": {
      "text/plain": [
       "Not Potable    1998\n",
       "Potable        1278\n",
       "Name: Potability, dtype: int64"
      ]
     },
     "execution_count": 64,
     "metadata": {},
     "output_type": "execute_result"
    }
   ],
   "source": [
    "water_data[\"Potability\"].value_counts()"
   ]
  },
  {
   "cell_type": "code",
   "execution_count": 65,
   "id": "cde6a002-65a9-4d67-97ca-3c5581eeb876",
   "metadata": {
    "tags": []
   },
   "outputs": [
    {
     "data": {
      "text/plain": [
       "Potable        1998\n",
       "Not Potable    1998\n",
       "Name: Potability, dtype: int64"
      ]
     },
     "execution_count": 65,
     "metadata": {},
     "output_type": "execute_result"
    }
   ],
   "source": [
    "np_water = water_data[water_data[\"Potability\"] == \"Not Potable\"]\n",
    "p_water = water_data[water_data[\"Potability\"] == \"Potable\"]\n",
    "p_water_upsampled = resample(\n",
    "    p_water, n_samples=np_water.shape[0]\n",
    ")\n",
    "upsampled_water = pd.concat((p_water_upsampled, np_water))\n",
    "upsampled_water['Potability'].value_counts()"
   ]
  },
  {
   "cell_type": "code",
   "execution_count": 36,
   "id": "28f6156d-86d0-471e-ba67-c42a05ea83f1",
   "metadata": {
    "tags": []
   },
   "outputs": [
    {
     "data": {
      "text/html": [
       "<div>\n",
       "<style scoped>\n",
       "    .dataframe tbody tr th:only-of-type {\n",
       "        vertical-align: middle;\n",
       "    }\n",
       "\n",
       "    .dataframe tbody tr th {\n",
       "        vertical-align: top;\n",
       "    }\n",
       "\n",
       "    .dataframe thead th {\n",
       "        text-align: right;\n",
       "    }\n",
       "</style>\n",
       "<table border=\"1\" class=\"dataframe\">\n",
       "  <thead>\n",
       "    <tr style=\"text-align: right;\">\n",
       "      <th></th>\n",
       "      <th>ph</th>\n",
       "      <th>Hardness</th>\n",
       "      <th>Solids</th>\n",
       "      <th>Chloramines</th>\n",
       "      <th>Sulfate</th>\n",
       "      <th>Conductivity</th>\n",
       "      <th>Organic_carbon</th>\n",
       "      <th>Trihalomethanes</th>\n",
       "      <th>Turbidity</th>\n",
       "      <th>Potability</th>\n",
       "    </tr>\n",
       "  </thead>\n",
       "  <tbody>\n",
       "    <tr>\n",
       "      <th>673</th>\n",
       "      <td>7.603775</td>\n",
       "      <td>214.682778</td>\n",
       "      <td>11459.622445</td>\n",
       "      <td>10.999995</td>\n",
       "      <td>398.920869</td>\n",
       "      <td>321.069074</td>\n",
       "      <td>12.010676</td>\n",
       "      <td>58.100707</td>\n",
       "      <td>3.584985</td>\n",
       "      <td>Potable</td>\n",
       "    </tr>\n",
       "    <tr>\n",
       "      <th>1701</th>\n",
       "      <td>5.141507</td>\n",
       "      <td>111.994028</td>\n",
       "      <td>11288.634718</td>\n",
       "      <td>5.841750</td>\n",
       "      <td>389.225673</td>\n",
       "      <td>315.229665</td>\n",
       "      <td>12.982476</td>\n",
       "      <td>81.159239</td>\n",
       "      <td>4.510578</td>\n",
       "      <td>Potable</td>\n",
       "    </tr>\n",
       "    <tr>\n",
       "      <th>1944</th>\n",
       "      <td>6.985304</td>\n",
       "      <td>219.586440</td>\n",
       "      <td>16470.952192</td>\n",
       "      <td>6.445513</td>\n",
       "      <td>339.053992</td>\n",
       "      <td>492.903021</td>\n",
       "      <td>15.804449</td>\n",
       "      <td>70.600683</td>\n",
       "      <td>3.081799</td>\n",
       "      <td>Potable</td>\n",
       "    </tr>\n",
       "    <tr>\n",
       "      <th>246</th>\n",
       "      <td>7.146976</td>\n",
       "      <td>196.562685</td>\n",
       "      <td>16911.203773</td>\n",
       "      <td>6.890505</td>\n",
       "      <td>320.100875</td>\n",
       "      <td>520.111358</td>\n",
       "      <td>12.854239</td>\n",
       "      <td>66.814176</td>\n",
       "      <td>4.025762</td>\n",
       "      <td>Potable</td>\n",
       "    </tr>\n",
       "    <tr>\n",
       "      <th>922</th>\n",
       "      <td>5.609025</td>\n",
       "      <td>271.630824</td>\n",
       "      <td>26955.330183</td>\n",
       "      <td>6.772753</td>\n",
       "      <td>296.651564</td>\n",
       "      <td>443.872558</td>\n",
       "      <td>17.048683</td>\n",
       "      <td>72.827392</td>\n",
       "      <td>3.354890</td>\n",
       "      <td>Potable</td>\n",
       "    </tr>\n",
       "  </tbody>\n",
       "</table>\n",
       "</div>"
      ],
      "text/plain": [
       "            ph    Hardness        Solids  Chloramines     Sulfate  \\\n",
       "673   7.603775  214.682778  11459.622445    10.999995  398.920869   \n",
       "1701  5.141507  111.994028  11288.634718     5.841750  389.225673   \n",
       "1944  6.985304  219.586440  16470.952192     6.445513  339.053992   \n",
       "246   7.146976  196.562685  16911.203773     6.890505  320.100875   \n",
       "922   5.609025  271.630824  26955.330183     6.772753  296.651564   \n",
       "\n",
       "      Conductivity  Organic_carbon  Trihalomethanes  Turbidity Potability  \n",
       "673     321.069074       12.010676        58.100707   3.584985    Potable  \n",
       "1701    315.229665       12.982476        81.159239   4.510578    Potable  \n",
       "1944    492.903021       15.804449        70.600683   3.081799    Potable  \n",
       "246     520.111358       12.854239        66.814176   4.025762    Potable  \n",
       "922     443.872558       17.048683        72.827392   3.354890    Potable  "
      ]
     },
     "execution_count": 36,
     "metadata": {},
     "output_type": "execute_result"
    }
   ],
   "source": [
    "upsampled_water.head()"
   ]
  },
  {
   "cell_type": "code",
   "execution_count": 66,
   "id": "0ed9a7a9-e9a1-4de0-9127-b48975716f31",
   "metadata": {
    "tags": []
   },
   "outputs": [],
   "source": [
    "water_train, water_test = train_test_split(water_data, test_size=0.25, random_state=123)\n"
   ]
  },
  {
   "cell_type": "markdown",
   "id": "5924cff6-5b2d-46ff-96db-fb6b531be384",
   "metadata": {},
   "source": [
    "### Method\n",
    "Explain how you will conduct either your data analysis and which variables/columns you will use. Note - you do not need to use all variables/columns that exist in the raw data set. In fact, that's often not a good idea. For each variable think: is this a useful variable for prediction?\n",
    "Describe at least one way that you will visualize the results\n"
   ]
  },
  {
   "cell_type": "code",
   "execution_count": 35,
   "id": "ee242375-5a0d-458a-925b-050f0b72feec",
   "metadata": {
    "tags": []
   },
   "outputs": [
    {
     "data": {
      "text/plain": [
       "ph                     7.067201\n",
       "Hardness             196.008440\n",
       "Solids             21628.535122\n",
       "Chloramines            7.107267\n",
       "Sulfate              333.742928\n",
       "Conductivity         427.554342\n",
       "Organic_carbon        14.400250\n",
       "Trihalomethanes       66.278712\n",
       "Turbidity              3.955181\n",
       "dtype: float64"
      ]
     },
     "metadata": {},
     "output_type": "display_data"
    },
    {
     "data": {
      "text/plain": [
       "ph                     7.113791\n",
       "Hardness             195.908341\n",
       "Solids             22344.922883\n",
       "Chloramines            7.174395\n",
       "Sulfate              332.457832\n",
       "Conductivity         425.005423\n",
       "Organic_carbon        14.294764\n",
       "Trihalomethanes       66.581596\n",
       "Turbidity              3.991254\n",
       "dtype: float64"
      ]
     },
     "metadata": {},
     "output_type": "display_data"
    },
    {
     "data": {
      "text/plain": [
       "Solids            0.016291\n",
       "Chloramines       0.004700\n",
       "Turbidity         0.004539\n",
       "Organic_carbon    0.003676\n",
       "ph                0.003285\n",
       "dtype: float64"
      ]
     },
     "execution_count": 35,
     "metadata": {},
     "output_type": "execute_result"
    }
   ],
   "source": [
    "np_water = water_data[water_data[\"Potability\"] == \"Not Potable\"].mean(numeric_only=True)\n",
    "display(np_water)\n",
    "\n",
    "p_water = water_data[water_data[\"Potability\"] == \"Potable\"].mean(numeric_only=True)\n",
    "display(p_water)\n",
    "\n",
    "((np_water - p_water)/(np_water + p_water)).abs().nlargest(5)"
   ]
  },
  {
   "cell_type": "markdown",
   "id": "8af2c8a3-68ae-43a0-a94f-b9f2ce0c666e",
   "metadata": {},
   "source": [
    "Judging from the difference in the last panadas series, we should pick \"Solids\", \"Chloramines\", \"Turbidity\", \"Organic_carbon\" and \"ph\" for the predictor variables and \"Potability\" for the response variable."
   ]
  }
 ],
 "metadata": {
  "kernelspec": {
   "display_name": "Python 3 (ipykernel)",
   "language": "python",
   "name": "python3"
  },
  "language_info": {
   "codemirror_mode": {
    "name": "ipython",
    "version": 3
   },
   "file_extension": ".py",
   "mimetype": "text/x-python",
   "name": "python",
   "nbconvert_exporter": "python",
   "pygments_lexer": "ipython3",
   "version": "3.10.8"
  }
 },
 "nbformat": 4,
 "nbformat_minor": 5
}
